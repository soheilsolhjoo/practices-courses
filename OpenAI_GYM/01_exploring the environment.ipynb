{
 "cells": [
  {
   "cell_type": "markdown",
   "id": "297b6257",
   "metadata": {},
   "source": [
    "# Exporing the Gymnasium library\n",
    "The library is hosted on the Farma Foundation's [GitHub page](https://github.com/Farama-Foundation/Gymnasium), and documented in [gymnasium.farama.org](https://gymnasium.farama.org/)."
   ]
  },
  {
   "cell_type": "code",
   "execution_count": 23,
   "id": "8caaa5f5",
   "metadata": {},
   "outputs": [],
   "source": [
    "import gymnasium as gym"
   ]
  },
  {
   "cell_type": "code",
   "execution_count": 24,
   "id": "cb15de2d",
   "metadata": {},
   "outputs": [],
   "source": [
    "import matplotlib.pyplot as plt\n",
    "import time"
   ]
  },
  {
   "cell_type": "code",
   "execution_count": 47,
   "id": "b9c742c4",
   "metadata": {},
   "outputs": [],
   "source": [
    "env = gym.make(\"Adventure-v4\", render_mode=\"human\")\n",
    "# env = gym.make(\"GymV26Environment-v0\", env_id=\"ALE/Pong-v5\")"
   ]
  },
  {
   "cell_type": "code",
   "execution_count": 48,
   "id": "0095e6f8",
   "metadata": {},
   "outputs": [],
   "source": [
    "observation, info = env.reset()"
   ]
  },
  {
   "cell_type": "code",
   "execution_count": 51,
   "id": "9b8d1162",
   "metadata": {},
   "outputs": [],
   "source": [
    "for _ in range(100):\n",
    "    action = env.action_space.sample()  # agent policy that uses the observation and info\n",
    "    observation, reward, terminated, truncated, info = env.step(action)\n",
    "\n",
    "    if terminated or truncated:\n",
    "        observation, info = env.reset()\n",
    "\n",
    "env.close()"
   ]
  },
  {
   "cell_type": "code",
   "execution_count": 52,
   "id": "9d4f62f0",
   "metadata": {},
   "outputs": [
    {
     "data": {
      "text/plain": [
       "(0.0,\n",
       " False,\n",
       " False,\n",
       " {'lives': 1, 'episode_frame_number': 334, 'frame_number': 334})"
      ]
     },
     "execution_count": 52,
     "metadata": {},
     "output_type": "execute_result"
    }
   ],
   "source": [
    "reward, terminated, truncated, info"
   ]
  },
  {
   "cell_type": "code",
   "execution_count": null,
   "id": "8c2a6c0f",
   "metadata": {},
   "outputs": [],
   "source": []
  }
 ],
 "metadata": {
  "kernelspec": {
   "display_name": "Python 3 (ipykernel)",
   "language": "python",
   "name": "python3"
  },
  "language_info": {
   "codemirror_mode": {
    "name": "ipython",
    "version": 3
   },
   "file_extension": ".py",
   "mimetype": "text/x-python",
   "name": "python",
   "nbconvert_exporter": "python",
   "pygments_lexer": "ipython3",
   "version": "3.9.16"
  }
 },
 "nbformat": 4,
 "nbformat_minor": 5
}
