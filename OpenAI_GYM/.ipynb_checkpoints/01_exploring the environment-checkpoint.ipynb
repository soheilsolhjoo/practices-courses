{
 "cells": [
  {
   "cell_type": "markdown",
   "id": "297b6257",
   "metadata": {},
   "source": [
    "# Exporing the Gymnasium library\n",
    "The library is hosted on the Farma Foundation's [GitHub page](https://github.com/Farama-Foundation/Gymnasium), and documented in [gymnasium.farama.org](https://gymnasium.farama.org/)."
   ]
  },
  {
   "cell_type": "code",
   "execution_count": 11,
   "id": "8caaa5f5",
   "metadata": {},
   "outputs": [],
   "source": [
    "import gymnasium as gym\n",
    "env = gym.make(\"LunarLander-v2\", render_mode=\"human\")\n",
    "observation, info = env.reset()\n",
    "\n",
    "for _ in range(1000):\n",
    "    action = env.action_space.sample()  # agent policy that uses the observation and info\n",
    "    observation, reward, terminated, truncated, info = env.step(action)\n",
    "\n",
    "    if terminated or truncated:\n",
    "        observation, info = env.reset()\n",
    "\n",
    "env.close()"
   ]
  },
  {
   "cell_type": "code",
   "execution_count": 12,
   "id": "cb15de2d",
   "metadata": {},
   "outputs": [],
   "source": [
    "import matplotlib.pyplot as plt\n",
    "import time"
   ]
  },
  {
   "cell_type": "code",
   "execution_count": 13,
   "id": "1e9d8e80",
   "metadata": {},
   "outputs": [],
   "source": [
    "env_name = 'ALE/Breakout-v5'"
   ]
  },
  {
   "cell_type": "code",
   "execution_count": 18,
   "id": "f30671cd",
   "metadata": {},
   "outputs": [],
   "source": [
    "env = gym.make(env_name, render_mode='rgb_array')"
   ]
  },
  {
   "cell_type": "code",
   "execution_count": 15,
   "id": "ab363182",
   "metadata": {},
   "outputs": [],
   "source": [
    "from gym.utils import play"
   ]
  },
  {
   "cell_type": "code",
   "execution_count": 6,
   "id": "8c9eae21",
   "metadata": {},
   "outputs": [],
   "source": [
    "# play.play(env,zoom=5)"
   ]
  },
  {
   "cell_type": "code",
   "execution_count": 10,
   "id": "4dc521cf",
   "metadata": {},
   "outputs": [],
   "source": [
    "# import gymnasium as gym\n",
    "# import random\n",
    "# import time\n",
    "# env = gym.make('SpaceInvaders-v0', render_mode='human')\n",
    "# height, width, channels = env.observation_space.shape\n",
    "# actions = env.action_space.n\n",
    "# env.unwrapped.get_action_meanings()\n",
    "# episodes = 5\n",
    "# # for episode in range(1, episodes+1):\n",
    "# for episode in range(episodes):\n",
    "#     state = env.reset()\n",
    "#     done = False\n",
    "#     score = 0 \n",
    "# while not done:\n",
    "#     time.sleep(0.1)\n",
    "#     action = random.choice([0,1,2,3,4,5])\n",
    "#     n_state, reward, terminated, done, info = env.step(action)\n",
    "#     score+=reward\n",
    "# print('Episode:{} Score:{}'.format(episode, score))\n",
    "# env.close()"
   ]
  }
 ],
 "metadata": {
  "kernelspec": {
   "display_name": "Python 3 (ipykernel)",
   "language": "python",
   "name": "python3"
  },
  "language_info": {
   "codemirror_mode": {
    "name": "ipython",
    "version": 3
   },
   "file_extension": ".py",
   "mimetype": "text/x-python",
   "name": "python",
   "nbconvert_exporter": "python",
   "pygments_lexer": "ipython3",
   "version": "3.9.16"
  }
 },
 "nbformat": 4,
 "nbformat_minor": 5
}
